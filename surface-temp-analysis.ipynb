{
 "cells": [
  {
   "cell_type": "code",
   "execution_count": 21,
   "metadata": {},
   "outputs": [],
   "source": [
    "import pandas as pd\n",
    "import numpy as np\n",
    "import os\n",
    "import matplotlib.pyplot as plt"
   ]
  },
  {
   "cell_type": "code",
   "execution_count": 5,
   "metadata": {},
   "outputs": [
    {
     "data": {
      "text/plain": [
       "'/Users/Gerard/Desktop/python_project'"
      ]
     },
     "execution_count": 5,
     "metadata": {},
     "output_type": "execute_result"
    }
   ],
   "source": [
    "os.getcwd()"
   ]
  },
  {
   "cell_type": "markdown",
   "metadata": {},
   "source": [
    "# Importing the data"
   ]
  },
  {
   "cell_type": "code",
   "execution_count": 230,
   "metadata": {},
   "outputs": [],
   "source": [
    "dataset1 = pd.read_csv('GlobalLandTemperaturesByCity.csv',index_col=['dt'])"
   ]
  },
  {
   "cell_type": "code",
   "execution_count": 231,
   "metadata": {},
   "outputs": [
    {
     "data": {
      "text/plain": [
       "(8599212, 6)"
      ]
     },
     "execution_count": 231,
     "metadata": {},
     "output_type": "execute_result"
    }
   ],
   "source": [
    "dataFrame=pd.DataFrame(dataset1)\n",
    "dataFrame.shape"
   ]
  },
  {
   "cell_type": "code",
   "execution_count": 232,
   "metadata": {},
   "outputs": [
    {
     "name": "stdout",
     "output_type": "stream",
     "text": [
      "            AverageTemperature  AverageTemperatureUncertainty    City  \\\n",
      "dt                                                                      \n",
      "1743-11-01               6.801                          1.944  Dublin   \n",
      "1743-12-01                 NaN                            NaN  Dublin   \n",
      "1744-01-01                 NaN                            NaN  Dublin   \n",
      "1744-02-01                 NaN                            NaN  Dublin   \n",
      "1744-03-01                 NaN                            NaN  Dublin   \n",
      "\n",
      "            Country Latitude Longitude  \n",
      "dt                                      \n",
      "1743-11-01  Ireland   53.84N     6.82W  \n",
      "1743-12-01  Ireland   53.84N     6.82W  \n",
      "1744-01-01  Ireland   53.84N     6.82W  \n",
      "1744-02-01  Ireland   53.84N     6.82W  \n",
      "1744-03-01  Ireland   53.84N     6.82W  \n"
     ]
    }
   ],
   "source": [
    "DublinData = dataFrame[dataFrame[\"City\"]==\"Dublin\"]\n",
    "print(DublinData.head())"
   ]
  },
  {
   "cell_type": "code",
   "execution_count": 27,
   "metadata": {},
   "outputs": [],
   "source": [
    "x=DublinData[\"dt\"]\n",
    "y=DublinData[\"AverageTemperature\"]"
   ]
  },
  {
   "cell_type": "code",
   "execution_count": 32,
   "metadata": {},
   "outputs": [
    {
     "data": {
      "image/png": "[encoded data removed]",
      "text/plain": [
       "<Figure size 432x288 with 1 Axes>"
      ]
     },
     "metadata": {
      "needs_background": "light"
     },
     "output_type": "display_data"
    }
   ],
   "source": [
    "fig,ax = plt.subplots()\n",
    "ax.plot(x,y)\n",
    "plt.show()"
   ]
  },
  {
   "cell_type": "markdown",
   "metadata": {},
   "source": [
    "# Using loc and iloc on dataFrame"
   ]
  },
  {
   "cell_type": "code",
   "execution_count": 50,
   "metadata": {},
   "outputs": [
    {
     "data": {
      "text/plain": [
       "AverageTemperature                 6.801\n",
       "AverageTemperatureUncertainty      1.944\n",
       "City                              Dublin\n",
       "Country                          Ireland\n",
       "Latitude                          53.84N\n",
       "Longitude                          6.82W\n",
       "Name: 1743-11-01, dtype: object"
      ]
     },
     "execution_count": 50,
     "metadata": {},
     "output_type": "execute_result"
    }
   ],
   "source": [
    "DublinData.loc[\"1743-11-01\",:]"
   ]
  },
  {
   "cell_type": "code",
   "execution_count": 52,
   "metadata": {},
   "outputs": [
    {
     "data": {
      "text/plain": [
       "AverageTemperature                 6.508\n",
       "AverageTemperatureUncertainty      1.934\n",
       "City                              Dublin\n",
       "Country                          Ireland\n",
       "Latitude                          53.84N\n",
       "Longitude                          6.82W\n",
       "Name: 1752-03-01, dtype: object"
      ]
     },
     "execution_count": 52,
     "metadata": {},
     "output_type": "execute_result"
    }
   ],
   "source": [
    "DublinData.iloc[100,:]"
   ]
  },
  {
   "cell_type": "code",
   "execution_count": 64,
   "metadata": {},
   "outputs": [
    {
     "data": {
      "text/html": [
       "<div>\n",
       "<style scoped>\n",
       "    .dataframe tbody tr th:only-of-type {\n",
       "        vertical-align: middle;\n",
       "    }\n",
       "\n",
       "    .dataframe tbody tr th {\n",
       "        vertical-align: top;\n",
       "    }\n",
       "\n",
       "    .dataframe thead th {\n",
       "        text-align: right;\n",
       "    }\n",
       "</style>\n",
       "<table border=\"1\" class=\"dataframe\">\n",
       "  <thead>\n",
       "    <tr style=\"text-align: right;\">\n",
       "      <th></th>\n",
       "      <th>AverageTemperature</th>\n",
       "      <th>AverageTemperatureUncertainty</th>\n",
       "      <th>City</th>\n",
       "      <th>Country</th>\n",
       "      <th>Latitude</th>\n",
       "      <th>Longitude</th>\n",
       "    </tr>\n",
       "    <tr>\n",
       "      <th>dt</th>\n",
       "      <th></th>\n",
       "      <th></th>\n",
       "      <th></th>\n",
       "      <th></th>\n",
       "      <th></th>\n",
       "      <th></th>\n",
       "    </tr>\n",
       "  </thead>\n",
       "  <tbody>\n",
       "    <tr>\n",
       "      <th>1757-07-01</th>\n",
       "      <td>17.739</td>\n",
       "      <td>6.098</td>\n",
       "      <td>Dublin</td>\n",
       "      <td>Ireland</td>\n",
       "      <td>53.84N</td>\n",
       "      <td>6.82W</td>\n",
       "    </tr>\n",
       "    <tr>\n",
       "      <th>1983-07-01</th>\n",
       "      <td>17.166</td>\n",
       "      <td>0.310</td>\n",
       "      <td>Dublin</td>\n",
       "      <td>Ireland</td>\n",
       "      <td>53.84N</td>\n",
       "      <td>6.82W</td>\n",
       "    </tr>\n",
       "    <tr>\n",
       "      <th>1989-07-01</th>\n",
       "      <td>17.036</td>\n",
       "      <td>0.298</td>\n",
       "      <td>Dublin</td>\n",
       "      <td>Ireland</td>\n",
       "      <td>53.84N</td>\n",
       "      <td>6.82W</td>\n",
       "    </tr>\n",
       "    <tr>\n",
       "      <th>1995-08-01</th>\n",
       "      <td>17.643</td>\n",
       "      <td>0.237</td>\n",
       "      <td>Dublin</td>\n",
       "      <td>Ireland</td>\n",
       "      <td>53.84N</td>\n",
       "      <td>6.82W</td>\n",
       "    </tr>\n",
       "    <tr>\n",
       "      <th>2006-07-01</th>\n",
       "      <td>17.275</td>\n",
       "      <td>0.252</td>\n",
       "      <td>Dublin</td>\n",
       "      <td>Ireland</td>\n",
       "      <td>53.84N</td>\n",
       "      <td>6.82W</td>\n",
       "    </tr>\n",
       "    <tr>\n",
       "      <th>2013-07-01</th>\n",
       "      <td>17.149</td>\n",
       "      <td>0.626</td>\n",
       "      <td>Dublin</td>\n",
       "      <td>Ireland</td>\n",
       "      <td>53.84N</td>\n",
       "      <td>6.82W</td>\n",
       "    </tr>\n",
       "  </tbody>\n",
       "</table>\n",
       "</div>"
      ],
      "text/plain": [
       "            AverageTemperature  AverageTemperatureUncertainty    City  \\\n",
       "dt                                                                      \n",
       "1757-07-01              17.739                          6.098  Dublin   \n",
       "1983-07-01              17.166                          0.310  Dublin   \n",
       "1989-07-01              17.036                          0.298  Dublin   \n",
       "1995-08-01              17.643                          0.237  Dublin   \n",
       "2006-07-01              17.275                          0.252  Dublin   \n",
       "2013-07-01              17.149                          0.626  Dublin   \n",
       "\n",
       "            Country Latitude Longitude  \n",
       "dt                                      \n",
       "1757-07-01  Ireland   53.84N     6.82W  \n",
       "1983-07-01  Ireland   53.84N     6.82W  \n",
       "1989-07-01  Ireland   53.84N     6.82W  \n",
       "1995-08-01  Ireland   53.84N     6.82W  \n",
       "2006-07-01  Ireland   53.84N     6.82W  \n",
       "2013-07-01  Ireland   53.84N     6.82W  "
      ]
     },
     "execution_count": 64,
     "metadata": {},
     "output_type": "execute_result"
    }
   ],
   "source": [
    "DublinData[DublinData[\"AverageTemperature\"] > 17]"
   ]
  },
  {
   "cell_type": "code",
   "execution_count": 68,
   "metadata": {},
   "outputs": [
    {
     "data": {
      "text/plain": [
       "array(['Cork', 'Dublin'], dtype=object)"
      ]
     },
     "execution_count": 68,
     "metadata": {},
     "output_type": "execute_result"
    }
   ],
   "source": [
    "dataFrame[dataFrame[\"Country\"]==\"Ireland\"]['City'].unique()"
   ]
  },
  {
   "cell_type": "code",
   "execution_count": 71,
   "metadata": {},
   "outputs": [
    {
     "data": {
      "text/plain": [
       "City\n",
       "Cork      18.740\n",
       "Dublin    17.739\n",
       "Name: AverageTemperature, dtype: float64"
      ]
     },
     "execution_count": 71,
     "metadata": {},
     "output_type": "execute_result"
    }
   ],
   "source": [
    "dataFrame[dataFrame[\"Country\"]==\"Ireland\"].groupby('City')[\"AverageTemperature\"].max()"
   ]
  },
  {
   "cell_type": "code",
   "execution_count": 74,
   "metadata": {},
   "outputs": [
    {
     "data": {
      "text/html": [
       "<div>\n",
       "<style scoped>\n",
       "    .dataframe tbody tr th:only-of-type {\n",
       "        vertical-align: middle;\n",
       "    }\n",
       "\n",
       "    .dataframe tbody tr th {\n",
       "        vertical-align: top;\n",
       "    }\n",
       "\n",
       "    .dataframe thead th {\n",
       "        text-align: right;\n",
       "    }\n",
       "</style>\n",
       "<table border=\"1\" class=\"dataframe\">\n",
       "  <thead>\n",
       "    <tr style=\"text-align: right;\">\n",
       "      <th></th>\n",
       "      <th>AverageTemperature</th>\n",
       "      <th>AverageTemperatureUncertainty</th>\n",
       "      <th>City</th>\n",
       "      <th>Country</th>\n",
       "      <th>Latitude</th>\n",
       "      <th>Longitude</th>\n",
       "    </tr>\n",
       "    <tr>\n",
       "      <th>dt</th>\n",
       "      <th></th>\n",
       "      <th></th>\n",
       "      <th></th>\n",
       "      <th></th>\n",
       "      <th></th>\n",
       "      <th></th>\n",
       "    </tr>\n",
       "  </thead>\n",
       "  <tbody>\n",
       "    <tr>\n",
       "      <th>1743-12-01</th>\n",
       "      <td>NaN</td>\n",
       "      <td>NaN</td>\n",
       "      <td>Dublin</td>\n",
       "      <td>Ireland</td>\n",
       "      <td>53.84N</td>\n",
       "      <td>6.82W</td>\n",
       "    </tr>\n",
       "    <tr>\n",
       "      <th>1744-01-01</th>\n",
       "      <td>NaN</td>\n",
       "      <td>NaN</td>\n",
       "      <td>Dublin</td>\n",
       "      <td>Ireland</td>\n",
       "      <td>53.84N</td>\n",
       "      <td>6.82W</td>\n",
       "    </tr>\n",
       "    <tr>\n",
       "      <th>1744-02-01</th>\n",
       "      <td>NaN</td>\n",
       "      <td>NaN</td>\n",
       "      <td>Dublin</td>\n",
       "      <td>Ireland</td>\n",
       "      <td>53.84N</td>\n",
       "      <td>6.82W</td>\n",
       "    </tr>\n",
       "    <tr>\n",
       "      <th>1744-03-01</th>\n",
       "      <td>NaN</td>\n",
       "      <td>NaN</td>\n",
       "      <td>Dublin</td>\n",
       "      <td>Ireland</td>\n",
       "      <td>53.84N</td>\n",
       "      <td>6.82W</td>\n",
       "    </tr>\n",
       "    <tr>\n",
       "      <th>1744-08-01</th>\n",
       "      <td>NaN</td>\n",
       "      <td>NaN</td>\n",
       "      <td>Dublin</td>\n",
       "      <td>Ireland</td>\n",
       "      <td>53.84N</td>\n",
       "      <td>6.82W</td>\n",
       "    </tr>\n",
       "    <tr>\n",
       "      <th>...</th>\n",
       "      <td>...</td>\n",
       "      <td>...</td>\n",
       "      <td>...</td>\n",
       "      <td>...</td>\n",
       "      <td>...</td>\n",
       "      <td>...</td>\n",
       "    </tr>\n",
       "    <tr>\n",
       "      <th>1752-06-01</th>\n",
       "      <td>NaN</td>\n",
       "      <td>NaN</td>\n",
       "      <td>Dublin</td>\n",
       "      <td>Ireland</td>\n",
       "      <td>53.84N</td>\n",
       "      <td>6.82W</td>\n",
       "    </tr>\n",
       "    <tr>\n",
       "      <th>1752-07-01</th>\n",
       "      <td>NaN</td>\n",
       "      <td>NaN</td>\n",
       "      <td>Dublin</td>\n",
       "      <td>Ireland</td>\n",
       "      <td>53.84N</td>\n",
       "      <td>6.82W</td>\n",
       "    </tr>\n",
       "    <tr>\n",
       "      <th>1752-08-01</th>\n",
       "      <td>NaN</td>\n",
       "      <td>NaN</td>\n",
       "      <td>Dublin</td>\n",
       "      <td>Ireland</td>\n",
       "      <td>53.84N</td>\n",
       "      <td>6.82W</td>\n",
       "    </tr>\n",
       "    <tr>\n",
       "      <th>1752-09-01</th>\n",
       "      <td>NaN</td>\n",
       "      <td>NaN</td>\n",
       "      <td>Dublin</td>\n",
       "      <td>Ireland</td>\n",
       "      <td>53.84N</td>\n",
       "      <td>6.82W</td>\n",
       "    </tr>\n",
       "    <tr>\n",
       "      <th>2013-09-01</th>\n",
       "      <td>NaN</td>\n",
       "      <td>NaN</td>\n",
       "      <td>Dublin</td>\n",
       "      <td>Ireland</td>\n",
       "      <td>53.84N</td>\n",
       "      <td>6.82W</td>\n",
       "    </tr>\n",
       "  </tbody>\n",
       "</table>\n",
       "<p>73 rows × 6 columns</p>\n",
       "</div>"
      ],
      "text/plain": [
       "            AverageTemperature  AverageTemperatureUncertainty    City  \\\n",
       "dt                                                                      \n",
       "1743-12-01                 NaN                            NaN  Dublin   \n",
       "1744-01-01                 NaN                            NaN  Dublin   \n",
       "1744-02-01                 NaN                            NaN  Dublin   \n",
       "1744-03-01                 NaN                            NaN  Dublin   \n",
       "1744-08-01                 NaN                            NaN  Dublin   \n",
       "...                        ...                            ...     ...   \n",
       "1752-06-01                 NaN                            NaN  Dublin   \n",
       "1752-07-01                 NaN                            NaN  Dublin   \n",
       "1752-08-01                 NaN                            NaN  Dublin   \n",
       "1752-09-01                 NaN                            NaN  Dublin   \n",
       "2013-09-01                 NaN                            NaN  Dublin   \n",
       "\n",
       "            Country Latitude Longitude  \n",
       "dt                                      \n",
       "1743-12-01  Ireland   53.84N     6.82W  \n",
       "1744-01-01  Ireland   53.84N     6.82W  \n",
       "1744-02-01  Ireland   53.84N     6.82W  \n",
       "1744-03-01  Ireland   53.84N     6.82W  \n",
       "1744-08-01  Ireland   53.84N     6.82W  \n",
       "...             ...      ...       ...  \n",
       "1752-06-01  Ireland   53.84N     6.82W  \n",
       "1752-07-01  Ireland   53.84N     6.82W  \n",
       "1752-08-01  Ireland   53.84N     6.82W  \n",
       "1752-09-01  Ireland   53.84N     6.82W  \n",
       "2013-09-01  Ireland   53.84N     6.82W  \n",
       "\n",
       "[73 rows x 6 columns]"
      ]
     },
     "execution_count": 74,
     "metadata": {},
     "output_type": "execute_result"
    }
   ],
   "source": [
    "DublinData[DublinData.isna()['AverageTemperature']==True]"
   ]
  },
  {
   "cell_type": "markdown",
   "metadata": {},
   "source": [
    "# Forward Fill data"
   ]
  },
  {
   "cell_type": "code",
   "execution_count": 75,
   "metadata": {},
   "outputs": [
    {
     "data": {
      "text/html": [
       "<div>\n",
       "<style scoped>\n",
       "    .dataframe tbody tr th:only-of-type {\n",
       "        vertical-align: middle;\n",
       "    }\n",
       "\n",
       "    .dataframe tbody tr th {\n",
       "        vertical-align: top;\n",
       "    }\n",
       "\n",
       "    .dataframe thead th {\n",
       "        text-align: right;\n",
       "    }\n",
       "</style>\n",
       "<table border=\"1\" class=\"dataframe\">\n",
       "  <thead>\n",
       "    <tr style=\"text-align: right;\">\n",
       "      <th></th>\n",
       "      <th>AverageTemperature</th>\n",
       "      <th>AverageTemperatureUncertainty</th>\n",
       "      <th>City</th>\n",
       "      <th>Country</th>\n",
       "      <th>Latitude</th>\n",
       "      <th>Longitude</th>\n",
       "    </tr>\n",
       "    <tr>\n",
       "      <th>dt</th>\n",
       "      <th></th>\n",
       "      <th></th>\n",
       "      <th></th>\n",
       "      <th></th>\n",
       "      <th></th>\n",
       "      <th></th>\n",
       "    </tr>\n",
       "  </thead>\n",
       "  <tbody>\n",
       "    <tr>\n",
       "      <th>1743-11-01</th>\n",
       "      <td>6.801</td>\n",
       "      <td>1.944</td>\n",
       "      <td>Dublin</td>\n",
       "      <td>Ireland</td>\n",
       "      <td>53.84N</td>\n",
       "      <td>6.82W</td>\n",
       "    </tr>\n",
       "    <tr>\n",
       "      <th>1743-12-01</th>\n",
       "      <td>6.801</td>\n",
       "      <td>1.944</td>\n",
       "      <td>Dublin</td>\n",
       "      <td>Ireland</td>\n",
       "      <td>53.84N</td>\n",
       "      <td>6.82W</td>\n",
       "    </tr>\n",
       "    <tr>\n",
       "      <th>1744-01-01</th>\n",
       "      <td>6.801</td>\n",
       "      <td>1.944</td>\n",
       "      <td>Dublin</td>\n",
       "      <td>Ireland</td>\n",
       "      <td>53.84N</td>\n",
       "      <td>6.82W</td>\n",
       "    </tr>\n",
       "    <tr>\n",
       "      <th>1744-02-01</th>\n",
       "      <td>6.801</td>\n",
       "      <td>1.944</td>\n",
       "      <td>Dublin</td>\n",
       "      <td>Ireland</td>\n",
       "      <td>53.84N</td>\n",
       "      <td>6.82W</td>\n",
       "    </tr>\n",
       "    <tr>\n",
       "      <th>1744-03-01</th>\n",
       "      <td>6.801</td>\n",
       "      <td>1.944</td>\n",
       "      <td>Dublin</td>\n",
       "      <td>Ireland</td>\n",
       "      <td>53.84N</td>\n",
       "      <td>6.82W</td>\n",
       "    </tr>\n",
       "    <tr>\n",
       "      <th>...</th>\n",
       "      <td>...</td>\n",
       "      <td>...</td>\n",
       "      <td>...</td>\n",
       "      <td>...</td>\n",
       "      <td>...</td>\n",
       "      <td>...</td>\n",
       "    </tr>\n",
       "    <tr>\n",
       "      <th>2013-05-01</th>\n",
       "      <td>9.988</td>\n",
       "      <td>0.384</td>\n",
       "      <td>Dublin</td>\n",
       "      <td>Ireland</td>\n",
       "      <td>53.84N</td>\n",
       "      <td>6.82W</td>\n",
       "    </tr>\n",
       "    <tr>\n",
       "      <th>2013-06-01</th>\n",
       "      <td>13.384</td>\n",
       "      <td>0.185</td>\n",
       "      <td>Dublin</td>\n",
       "      <td>Ireland</td>\n",
       "      <td>53.84N</td>\n",
       "      <td>6.82W</td>\n",
       "    </tr>\n",
       "    <tr>\n",
       "      <th>2013-07-01</th>\n",
       "      <td>17.149</td>\n",
       "      <td>0.626</td>\n",
       "      <td>Dublin</td>\n",
       "      <td>Ireland</td>\n",
       "      <td>53.84N</td>\n",
       "      <td>6.82W</td>\n",
       "    </tr>\n",
       "    <tr>\n",
       "      <th>2013-08-01</th>\n",
       "      <td>14.750</td>\n",
       "      <td>0.443</td>\n",
       "      <td>Dublin</td>\n",
       "      <td>Ireland</td>\n",
       "      <td>53.84N</td>\n",
       "      <td>6.82W</td>\n",
       "    </tr>\n",
       "    <tr>\n",
       "      <th>2013-09-01</th>\n",
       "      <td>14.750</td>\n",
       "      <td>0.443</td>\n",
       "      <td>Dublin</td>\n",
       "      <td>Ireland</td>\n",
       "      <td>53.84N</td>\n",
       "      <td>6.82W</td>\n",
       "    </tr>\n",
       "  </tbody>\n",
       "</table>\n",
       "<p>3239 rows × 6 columns</p>\n",
       "</div>"
      ],
      "text/plain": [
       "            AverageTemperature  AverageTemperatureUncertainty    City  \\\n",
       "dt                                                                      \n",
       "1743-11-01               6.801                          1.944  Dublin   \n",
       "1743-12-01               6.801                          1.944  Dublin   \n",
       "1744-01-01               6.801                          1.944  Dublin   \n",
       "1744-02-01               6.801                          1.944  Dublin   \n",
       "1744-03-01               6.801                          1.944  Dublin   \n",
       "...                        ...                            ...     ...   \n",
       "2013-05-01               9.988                          0.384  Dublin   \n",
       "2013-06-01              13.384                          0.185  Dublin   \n",
       "2013-07-01              17.149                          0.626  Dublin   \n",
       "2013-08-01              14.750                          0.443  Dublin   \n",
       "2013-09-01              14.750                          0.443  Dublin   \n",
       "\n",
       "            Country Latitude Longitude  \n",
       "dt                                      \n",
       "1743-11-01  Ireland   53.84N     6.82W  \n",
       "1743-12-01  Ireland   53.84N     6.82W  \n",
       "1744-01-01  Ireland   53.84N     6.82W  \n",
       "1744-02-01  Ireland   53.84N     6.82W  \n",
       "1744-03-01  Ireland   53.84N     6.82W  \n",
       "...             ...      ...       ...  \n",
       "2013-05-01  Ireland   53.84N     6.82W  \n",
       "2013-06-01  Ireland   53.84N     6.82W  \n",
       "2013-07-01  Ireland   53.84N     6.82W  \n",
       "2013-08-01  Ireland   53.84N     6.82W  \n",
       "2013-09-01  Ireland   53.84N     6.82W  \n",
       "\n",
       "[3239 rows x 6 columns]"
      ]
     },
     "execution_count": 75,
     "metadata": {},
     "output_type": "execute_result"
    }
   ],
   "source": [
    "DublinDataFF = DublinData.fillna(method='ffill')"
   ]
  },
  {
   "cell_type": "markdown",
   "metadata": {},
   "source": [
    "# Drop Missing Values"
   ]
  },
  {
   "cell_type": "code",
   "execution_count": 77,
   "metadata": {},
   "outputs": [
    {
     "data": {
      "text/html": [
       "<div>\n",
       "<style scoped>\n",
       "    .dataframe tbody tr th:only-of-type {\n",
       "        vertical-align: middle;\n",
       "    }\n",
       "\n",
       "    .dataframe tbody tr th {\n",
       "        vertical-align: top;\n",
       "    }\n",
       "\n",
       "    .dataframe thead th {\n",
       "        text-align: right;\n",
       "    }\n",
       "</style>\n",
       "<table border=\"1\" class=\"dataframe\">\n",
       "  <thead>\n",
       "    <tr style=\"text-align: right;\">\n",
       "      <th></th>\n",
       "      <th>AverageTemperature</th>\n",
       "      <th>AverageTemperatureUncertainty</th>\n",
       "      <th>City</th>\n",
       "      <th>Country</th>\n",
       "      <th>Latitude</th>\n",
       "      <th>Longitude</th>\n",
       "    </tr>\n",
       "    <tr>\n",
       "      <th>dt</th>\n",
       "      <th></th>\n",
       "      <th></th>\n",
       "      <th></th>\n",
       "      <th></th>\n",
       "      <th></th>\n",
       "      <th></th>\n",
       "    </tr>\n",
       "  </thead>\n",
       "  <tbody>\n",
       "    <tr>\n",
       "      <th>1743-11-01</th>\n",
       "      <td>6.801</td>\n",
       "      <td>1.944</td>\n",
       "      <td>Dublin</td>\n",
       "      <td>Ireland</td>\n",
       "      <td>53.84N</td>\n",
       "      <td>6.82W</td>\n",
       "    </tr>\n",
       "    <tr>\n",
       "      <th>1744-04-01</th>\n",
       "      <td>8.008</td>\n",
       "      <td>2.460</td>\n",
       "      <td>Dublin</td>\n",
       "      <td>Ireland</td>\n",
       "      <td>53.84N</td>\n",
       "      <td>6.82W</td>\n",
       "    </tr>\n",
       "    <tr>\n",
       "      <th>1744-05-01</th>\n",
       "      <td>9.684</td>\n",
       "      <td>1.615</td>\n",
       "      <td>Dublin</td>\n",
       "      <td>Ireland</td>\n",
       "      <td>53.84N</td>\n",
       "      <td>6.82W</td>\n",
       "    </tr>\n",
       "    <tr>\n",
       "      <th>1744-06-01</th>\n",
       "      <td>12.960</td>\n",
       "      <td>1.683</td>\n",
       "      <td>Dublin</td>\n",
       "      <td>Ireland</td>\n",
       "      <td>53.84N</td>\n",
       "      <td>6.82W</td>\n",
       "    </tr>\n",
       "    <tr>\n",
       "      <th>1744-07-01</th>\n",
       "      <td>14.018</td>\n",
       "      <td>1.684</td>\n",
       "      <td>Dublin</td>\n",
       "      <td>Ireland</td>\n",
       "      <td>53.84N</td>\n",
       "      <td>6.82W</td>\n",
       "    </tr>\n",
       "    <tr>\n",
       "      <th>...</th>\n",
       "      <td>...</td>\n",
       "      <td>...</td>\n",
       "      <td>...</td>\n",
       "      <td>...</td>\n",
       "      <td>...</td>\n",
       "      <td>...</td>\n",
       "    </tr>\n",
       "    <tr>\n",
       "      <th>2013-04-01</th>\n",
       "      <td>6.929</td>\n",
       "      <td>0.552</td>\n",
       "      <td>Dublin</td>\n",
       "      <td>Ireland</td>\n",
       "      <td>53.84N</td>\n",
       "      <td>6.82W</td>\n",
       "    </tr>\n",
       "    <tr>\n",
       "      <th>2013-05-01</th>\n",
       "      <td>9.988</td>\n",
       "      <td>0.384</td>\n",
       "      <td>Dublin</td>\n",
       "      <td>Ireland</td>\n",
       "      <td>53.84N</td>\n",
       "      <td>6.82W</td>\n",
       "    </tr>\n",
       "    <tr>\n",
       "      <th>2013-06-01</th>\n",
       "      <td>13.384</td>\n",
       "      <td>0.185</td>\n",
       "      <td>Dublin</td>\n",
       "      <td>Ireland</td>\n",
       "      <td>53.84N</td>\n",
       "      <td>6.82W</td>\n",
       "    </tr>\n",
       "    <tr>\n",
       "      <th>2013-07-01</th>\n",
       "      <td>17.149</td>\n",
       "      <td>0.626</td>\n",
       "      <td>Dublin</td>\n",
       "      <td>Ireland</td>\n",
       "      <td>53.84N</td>\n",
       "      <td>6.82W</td>\n",
       "    </tr>\n",
       "    <tr>\n",
       "      <th>2013-08-01</th>\n",
       "      <td>14.750</td>\n",
       "      <td>0.443</td>\n",
       "      <td>Dublin</td>\n",
       "      <td>Ireland</td>\n",
       "      <td>53.84N</td>\n",
       "      <td>6.82W</td>\n",
       "    </tr>\n",
       "  </tbody>\n",
       "</table>\n",
       "<p>3166 rows × 6 columns</p>\n",
       "</div>"
      ],
      "text/plain": [
       "            AverageTemperature  AverageTemperatureUncertainty    City  \\\n",
       "dt                                                                      \n",
       "1743-11-01               6.801                          1.944  Dublin   \n",
       "1744-04-01               8.008                          2.460  Dublin   \n",
       "1744-05-01               9.684                          1.615  Dublin   \n",
       "1744-06-01              12.960                          1.683  Dublin   \n",
       "1744-07-01              14.018                          1.684  Dublin   \n",
       "...                        ...                            ...     ...   \n",
       "2013-04-01               6.929                          0.552  Dublin   \n",
       "2013-05-01               9.988                          0.384  Dublin   \n",
       "2013-06-01              13.384                          0.185  Dublin   \n",
       "2013-07-01              17.149                          0.626  Dublin   \n",
       "2013-08-01              14.750                          0.443  Dublin   \n",
       "\n",
       "            Country Latitude Longitude  \n",
       "dt                                      \n",
       "1743-11-01  Ireland   53.84N     6.82W  \n",
       "1744-04-01  Ireland   53.84N     6.82W  \n",
       "1744-05-01  Ireland   53.84N     6.82W  \n",
       "1744-06-01  Ireland   53.84N     6.82W  \n",
       "1744-07-01  Ireland   53.84N     6.82W  \n",
       "...             ...      ...       ...  \n",
       "2013-04-01  Ireland   53.84N     6.82W  \n",
       "2013-05-01  Ireland   53.84N     6.82W  \n",
       "2013-06-01  Ireland   53.84N     6.82W  \n",
       "2013-07-01  Ireland   53.84N     6.82W  \n",
       "2013-08-01  Ireland   53.84N     6.82W  \n",
       "\n",
       "[3166 rows x 6 columns]"
      ]
     },
     "execution_count": 77,
     "metadata": {},
     "output_type": "execute_result"
    }
   ],
   "source": [
    "DublinData.dropna()"
   ]
  },
  {
   "cell_type": "markdown",
   "metadata": {},
   "source": [
    "Function to update the missing values with the average value for that specific month"
   ]
  },
  {
   "cell_type": "code",
   "execution_count": null,
   "metadata": {},
   "outputs": [],
   "source": [
    "def cleaning_data(column,df):\n",
    "    \n",
    "    "
   ]
  },
  {
   "cell_type": "code",
   "execution_count": 238,
   "metadata": {},
   "outputs": [],
   "source": [
    "DublinData=DublinData.reset_index()\n",
    "DublinData['dt'] = pd.to_datetime(DublinData['dt'])"
   ]
  },
  {
   "cell_type": "code",
   "execution_count": 234,
   "metadata": {},
   "outputs": [
    {
     "data": {
      "text/plain": [
       "dt                               False\n",
       "AverageTemperature                True\n",
       "AverageTemperatureUncertainty     True\n",
       "City                             False\n",
       "Country                          False\n",
       "Latitude                         False\n",
       "Longitude                        False\n",
       "dtype: bool"
      ]
     },
     "execution_count": 234,
     "metadata": {},
     "output_type": "execute_result"
    }
   ],
   "source": [
    "DublinData.isna().any()"
   ]
  },
  {
   "cell_type": "code",
   "execution_count": 241,
   "metadata": {},
   "outputs": [],
   "source": [
    "dictionary = (DublinData.isna().any()==True).to_dict()\n",
    "null_cols = []\n",
    "for col,v in dictionary.items():\n",
    "    \n",
    "    if v == True:\n",
    "        null_cols.append(col)\n",
    "        null_list = DublinData[DublinData.isna()[col]==True]\n",
    "        index = []\n",
    "        for i in range (0,len(null_list)):\n",
    "            month = DublinData.loc[i,'dt'].to_pydatetime().month\n",
    "            mean = DublinData[DublinData[\"dt\"].dt.month == month].dropna()[col].mean()\n",
    "            DublinData.at[i,col]=mean\n",
    "            \n"
   ]
  }
 ],
 "metadata": {
  "kernelspec": {
   "display_name": "Python 3",
   "language": "python",
   "name": "python3"
  },
  "language_info": {
   "codemirror_mode": {
    "name": "ipython",
    "version": 3
   },
   "file_extension": ".py",
   "mimetype": "text/x-python",
   "name": "python",
   "nbconvert_exporter": "python",
   "pygments_lexer": "ipython3",
   "version": "3.8.5"
  }
 },
 "nbformat": 4,
 "nbformat_minor": 4
}
