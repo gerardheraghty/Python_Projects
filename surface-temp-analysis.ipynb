{
 "cells": [
  {
   "cell_type": "code",
   "execution_count": null,
   "metadata": {},
   "outputs": [],
   "source": [
    "import pandas as pd\n",
    "import numpy as np\n",
    "import os\n",
    "import matplotlib.pyplot as plt\n",
    "pd.options.mode.chained_assignment = None  # default='warn'"
   ]
  },
  {
   "cell_type": "code",
   "execution_count": null,
   "metadata": {},
   "outputs": [],
   "source": [
    "os.getcwd()"
   ]
  },
  {
   "cell_type": "markdown",
   "metadata": {},
   "source": [
    "# Importing the data"
   ]
  },
  {
   "cell_type": "code",
   "execution_count": null,
   "metadata": {},
   "outputs": [],
   "source": [
    "dataset1 = pd.read_csv('GlobalLandTemperaturesByCity.csv',index_col=['dt'])"
   ]
  },
  {
   "cell_type": "code",
   "execution_count": null,
   "metadata": {},
   "outputs": [],
   "source": [
    "dataFrame=pd.DataFrame(dataset1)\n",
    "dataFrame.shape"
   ]
  },
  {
   "cell_type": "code",
   "execution_count": null,
   "metadata": {},
   "outputs": [],
   "source": [
    "DublinData = dataFrame[dataFrame[\"City\"]==\"Dublin\"]\n",
    "DublinData=DublinData.reset_index()\n",
    "print(DublinData.head())"
   ]
  },
  {
   "cell_type": "code",
   "execution_count": null,
   "metadata": {},
   "outputs": [],
   "source": [
    "x=DublinData[\"dt\"]\n",
    "y=DublinData[\"AverageTemperature\"]"
   ]
  },
  {
   "cell_type": "code",
   "execution_count": null,
   "metadata": {},
   "outputs": [],
   "source": [
    "fig,ax = plt.subplots()\n",
    "ax.plot(x,y)\n",
    "plt.show()"
   ]
  },
  {
   "cell_type": "markdown",
   "metadata": {},
   "source": [
    "# Using loc and iloc on dataFrame"
   ]
  },
  {
   "cell_type": "code",
   "execution_count": null,
   "metadata": {},
   "outputs": [],
   "source": [
    "DublinData=DublinData.set_index('dt')"
   ]
  },
  {
   "cell_type": "code",
   "execution_count": null,
   "metadata": {},
   "outputs": [],
   "source": [
    "DublinData.loc[\"1743-11-01\",:]"
   ]
  },
  {
   "cell_type": "code",
   "execution_count": null,
   "metadata": {},
   "outputs": [],
   "source": [
    "DublinData.iloc[100,:]"
   ]
  },
  {
   "cell_type": "code",
   "execution_count": null,
   "metadata": {},
   "outputs": [],
   "source": [
    "DublinData[DublinData[\"AverageTemperature\"] > 17]"
   ]
  },
  {
   "cell_type": "code",
   "execution_count": null,
   "metadata": {},
   "outputs": [],
   "source": [
    "dataFrame[dataFrame[\"Country\"]==\"Ireland\"]['City'].unique()"
   ]
  },
  {
   "cell_type": "code",
   "execution_count": null,
   "metadata": {},
   "outputs": [],
   "source": [
    "dataFrame[dataFrame[\"Country\"]==\"Ireland\"].groupby('City')[\"AverageTemperature\"].max()"
   ]
  },
  {
   "cell_type": "code",
   "execution_count": null,
   "metadata": {},
   "outputs": [],
   "source": [
    "DublinData[DublinData.isna()['AverageTemperature']==True]"
   ]
  },
  {
   "cell_type": "markdown",
   "metadata": {},
   "source": [
    "# Forward Fill data"
   ]
  },
  {
   "cell_type": "code",
   "execution_count": null,
   "metadata": {},
   "outputs": [],
   "source": [
    "DublinDataFF = DublinData.fillna(method='ffill')"
   ]
  },
  {
   "cell_type": "markdown",
   "metadata": {},
   "source": [
    "# Drop Missing Values"
   ]
  },
  {
   "cell_type": "code",
   "execution_count": null,
   "metadata": {},
   "outputs": [],
   "source": [
    "DublinData.dropna()"
   ]
  },
  {
   "cell_type": "markdown",
   "metadata": {},
   "source": [
    "Function to update the missing values with the average value for that specific month"
   ]
  },
  {
   "cell_type": "code",
   "execution_count": null,
   "metadata": {},
   "outputs": [],
   "source": [
    "def cleaning_data(df):\n",
    "    #df=df.reset_index()\n",
    "    #casting date field to datetime format to utilise .dt.month attribute\n",
    "    df['dt'] = pd.to_datetime(df['dt'])\n",
    "    #creating a dictionary of the fields with null values\n",
    "    dictionary = (df.isna().any()==True).to_dict()\n",
    "    \n",
    "    #iterating through the dictionary to find where True\n",
    "    for col,val in dictionary.items():\n",
    "        if val == True:                  \n",
    "            #creating a dataframe of the null values\n",
    "            null_df = df[df.isna()[col]==True]\n",
    "\n",
    "            for i in null_df.index:\n",
    "                month = df.loc[i,'dt'].to_pydatetime().month\n",
    "                mean = df[df[\"dt\"].dt.month == month].dropna()[col].mean()\n",
    "                df.at[i,col]=mean\n",
    "   "
   ]
  },
  {
   "cell_type": "code",
   "execution_count": null,
   "metadata": {},
   "outputs": [],
   "source": []
  },
  {
   "cell_type": "code",
   "execution_count": null,
   "metadata": {},
   "outputs": [],
   "source": [
    "dataset1"
   ]
  },
  {
   "cell_type": "markdown",
   "metadata": {},
   "source": [
    "# Analysing other elements of the dataset"
   ]
  },
  {
   "cell_type": "code",
   "execution_count": null,
   "metadata": {},
   "outputs": [],
   "source": [
    "dataset2 = pd.read_csv('GlobalLandTemperaturesByCountry.csv',index_col=['dt'])\n",
    "dataFrame2 =pd.DataFrame(dataset2)\n",
    "dataFrame2=dataFrame2.reset_index()"
   ]
  },
  {
   "cell_type": "code",
   "execution_count": null,
   "metadata": {},
   "outputs": [],
   "source": [
    "greenLandTemp = dataFrame2[dataFrame2['Country']=='Greenland']"
   ]
  },
  {
   "cell_type": "code",
   "execution_count": null,
   "metadata": {},
   "outputs": [],
   "source": [
    "cleaning_data(greenLandTemp)"
   ]
  },
  {
   "cell_type": "code",
   "execution_count": null,
   "metadata": {},
   "outputs": [],
   "source": [
    "greenLandTemp.duplicated().any()"
   ]
  },
  {
   "cell_type": "code",
   "execution_count": null,
   "metadata": {},
   "outputs": [],
   "source": [
    "plt.plot(greenLandTemp[greenLandTemp['dt'].dt.month==12],greenLandTemp['AverageTemperature'])"
   ]
  },
  {
   "cell_type": "code",
   "execution_count": null,
   "metadata": {},
   "outputs": [],
   "source": [
    "DecData = greenLandTemp[greenLandTemp['dt'].dt.month==12]\n",
    "DecData = DecData[DecData['dt'].dt.year > 1970]\n",
    "plt.plot(DecData['dt'],DecData['AverageTemperature'])"
   ]
  },
  {
   "cell_type": "markdown",
   "metadata": {},
   "source": [
    "Import data from national snow and ice data center API"
   ]
  },
  {
   "cell_type": "code",
   "execution_count": null,
   "metadata": {},
   "outputs": [],
   "source": [
    "url = 'https://masie_web.apps.nsidc.org/pub//DATASETS/NOAA/G02135/seaice_analysis/N_Sea_Ice_Index_Regional_Daily_Data_G02135_v3.0.xlsx'\n",
    "file = pd.read_excel(url,sheet_name=None)\n",
    "#xls = pd.ExcelFile(file)"
   ]
  },
  {
   "cell_type": "code",
   "execution_count": null,
   "metadata": {},
   "outputs": [],
   "source": [
    "file2 = pd.read_excel(url,sheet_name=1)"
   ]
  },
  {
   "cell_type": "code",
   "execution_count": null,
   "metadata": {},
   "outputs": [],
   "source": [
    "dataframeSI = pd.DataFrame(file2)"
   ]
  },
  {
   "cell_type": "code",
   "execution_count": null,
   "metadata": {},
   "outputs": [],
   "source": [
    "dataframeSI['month']=dataframeSI['month'].fillna(method='ffill')"
   ]
  },
  {
   "cell_type": "code",
   "execution_count": null,
   "metadata": {},
   "outputs": [],
   "source": [
    "look_up = {'January':'01', 'February':'02', 'March':'03', 'April':'04', 'May':'05',\n",
    "           'June':'06','July':'07', 'August':'08', 'September':'09', 'October':'10',\n",
    "           'November':'11', 'December':'12'}\n",
    "\n",
    "dataframeSI['month'] = dataframeSI['month'].apply(lambda x: look_up[x])"
   ]
  },
  {
   "cell_type": "code",
   "execution_count": null,
   "metadata": {},
   "outputs": [],
   "source": [
    "dataframeSI.head()"
   ]
  },
  {
   "cell_type": "code",
   "execution_count": null,
   "metadata": {},
   "outputs": [],
   "source": [
    "col_list = dataframeSI.keys()[2:]\n",
    "i = 0\n",
    "for col in col_list:\n",
    "    df = dataframeSI[['month','day',col]]\n",
    "    df = df.rename(columns = {col:\"Extent\"})\n",
    "    df['Year'] = str(col)\n",
    "    if i==0:\n",
    "        df_corrected = df\n",
    "    else:\n",
    "        df_corrected= pd.concat([df_new,df],ignore_index=True,sort=True)\n",
    "    i+=1\n",
    "  "
   ]
  },
  {
   "cell_type": "code",
   "execution_count": null,
   "metadata": {},
   "outputs": [],
   "source": [
    "df_corrected=df_corrected.dropna()"
   ]
  },
  {
   "cell_type": "code",
   "execution_count": null,
   "metadata": {},
   "outputs": [],
   "source": [
    "df_corrected['Date']=pd.to_datetime(df_corrected[['Year', 'month', 'day']])"
   ]
  },
  {
   "cell_type": "code",
   "execution_count": null,
   "metadata": {},
   "outputs": [],
   "source": [
    "Julydata = df_corrected[df_corrected['Date'].dt.month==7]"
   ]
  },
  {
   "cell_type": "code",
   "execution_count": null,
   "metadata": {},
   "outputs": [],
   "source": [
    "JulyMeans = Julydata.groupby('Year',as_index=False)['Extent'].agg('mean')"
   ]
  },
  {
   "cell_type": "code",
   "execution_count": null,
   "metadata": {},
   "outputs": [],
   "source": [
    "#merging date column from Julydata to JulyMeans\n",
    "JulyMeans = JulyMeans.merge(Julydata[Julydata['day']==1][['Year','Date']],how='right',left_on='Year',right_on='Year')"
   ]
  },
  {
   "cell_type": "code",
   "execution_count": null,
   "metadata": {},
   "outputs": [],
   "source": [
    "JulyMeans.head(3)"
   ]
  },
  {
   "cell_type": "markdown",
   "metadata": {},
   "source": [
    "# task: creating a reusable function to easily change month of the year we are plotting"
   ]
  },
  {
   "cell_type": "code",
   "execution_count": null,
   "metadata": {},
   "outputs": [],
   "source": [
    "def plot_Temp_Data(month):\n",
    "    \n",
    "    #month = int(input('please enter the month (1-12) you would like to analyse (i.e Jan=1,Feb=2 etc.):'))  \n",
    "    monthly_data = df_corrected[df_corrected['Date'].dt.month == month]\n",
    "    monthly_mean = monthly_data.groupby('Year',as_index=False)['Extent'].agg('mean')\n",
    "    monthly_mean = monthly_mean.merge(monthly_data[monthly_data['day']==1][['Year','Date']],how='right',left_on='Year',right_on='Year')\n",
    "    \n",
    "    fig,ax = plt.subplots()\n",
    "    monthly_mean = monthly_mean.set_index('Date')['1979-07-01':'2013-07-01'].reset_index()\n",
    "    x_data_mean = monthly_mean['Date']\n",
    "    y_data_mean = monthly_mean['Extent']\n",
    "    \n",
    "    ax.plot(x_data_mean,y_data_mean,color='r',marker='v')\n",
    "    \n",
    "    monthly_Temp = greenLandTemp[greenLandTemp['dt'].dt.month == month]\n",
    "    y_temp = monthly_Temp['AverageTemperature']\n",
    "    x_temp = monthly_Temp['dt']\n",
    "           \n",
    "    ax2 = ax.twinx()\n",
    "    ax2.plot(x_temp,y_temp,color='g',marker='o')\n",
    "    ax2.set_ylabel('Average Temperature (Celcius)',color='g')\n",
    "    \n",
    "    month_val = {1:'January', 2:'February', 3:'March', 4:'April', 5:'May',\n",
    "               6:'June',7:'July', 8:'August', 9:'September', 10:'October',\n",
    "               11:'November', 12:'December'}\n",
    "    \n",
    "    month= month_val.get(month)\n",
    "    \n",
    "    \n",
    "    ax.set_xlabel('Date (years)')\n",
    "    ax.set_ylabel('Sea Ice Extent (km^2)',color='r')\n",
    "    ax.set_title('Sea Ice extent vs Temperature for %s' %month)\n",
    "    ax.tick_params('y')\n",
    "    ax.tick_params('x',colors='blue')\n",
    "    plt.grid(True)\n",
    "    plt.show()    "
   ]
  },
  {
   "cell_type": "code",
   "execution_count": null,
   "metadata": {},
   "outputs": [],
   "source": [
    "plot_Temp_Data(5)"
   ]
  },
  {
   "cell_type": "markdown",
   "metadata": {},
   "source": [
    "# Creating some insightful graphs"
   ]
  },
  {
   "cell_type": "code",
   "execution_count": null,
   "metadata": {},
   "outputs": [],
   "source": [
    "greenLandTemp=greenLandTemp.set_index('dt')\n",
    "greenLandTemp = greenLandTemp['1979-01-01':'2013-09-01']\n",
    "greenLandTemp=greenLandTemp.reset_index()"
   ]
  },
  {
   "cell_type": "code",
   "execution_count": null,
   "metadata": {},
   "outputs": [],
   "source": [
    "fig,ax = plt.subplots()\n",
    "x_data = Julydata['Date']\n",
    "y_data = Julydata['Extent']\n",
    "\n",
    "#slice the data\n",
    "JulyMeans=JulyMeans.set_index('Date')['1979-07-01':'2013-07-01'].reset_index()\n",
    "x_data_mean = JulyMeans['Date']\n",
    "y_data_mean = JulyMeans['Extent']\n",
    "\n",
    "#ax.plot(x_data,y_data,marker='o',color = 'gray')\n",
    "\n",
    "ax.plot(x_data_mean,y_data_mean,color='r',marker='v')\n",
    "\n",
    "JulyTemp = greenLandTemp[greenLandTemp['dt'].dt.month == 7]\n",
    "y_temp = JulyTemp['AverageTemperature']\n",
    "x_temp = JulyTemp['dt']\n",
    "\n",
    "ax2 = ax.twinx()\n",
    "ax2.plot(x_temp,y_temp,color='g',marker='o')\n",
    "ax2.set_ylabel('Average Temperature (Celcius)',color='g')\n",
    "\n",
    "\n",
    "ax.set_xlabel('Date (years)')\n",
    "ax.set_ylabel('Sea Ice Extent (km^2)',color='r')\n",
    "ax.set_title('Sea Ice extent in the Bafflin Bay')\n",
    "ax.tick_params('y')\n",
    "ax.tick_params('x',colors='blue')\n",
    "plt.grid(True)\n",
    "plt.show()"
   ]
  },
  {
   "cell_type": "code",
   "execution_count": null,
   "metadata": {},
   "outputs": [],
   "source": [
    "import seaborn as sns\n",
    "sns.scatterplot(x=x_temp,y=y_temp)"
   ]
  },
  {
   "cell_type": "code",
   "execution_count": null,
   "metadata": {},
   "outputs": [],
   "source": []
  }
 ],
 "metadata": {
  "kernelspec": {
   "display_name": "Python 3",
   "language": "python",
   "name": "python3"
  },
  "language_info": {
   "codemirror_mode": {
    "name": "ipython",
    "version": 3
   },
   "file_extension": ".py",
   "mimetype": "text/x-python",
   "name": "python",
   "nbconvert_exporter": "python",
   "pygments_lexer": "ipython3",
   "version": "3.8.5"
  }
 },
 "nbformat": 4,
 "nbformat_minor": 4
}
