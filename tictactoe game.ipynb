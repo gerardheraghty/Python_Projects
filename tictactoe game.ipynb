{
 "cells": [
  {
   "cell_type": "code",
   "execution_count": 53,
   "metadata": {},
   "outputs": [],
   "source": [
    "from IPython.display import clear_output\n",
    "def display_board(board):\n",
    "    clear_output()\n",
    "    print(board[6],'|',board[7],'|',board[8])\n",
    "    print('---------')\n",
    "    print(board[3],'|',board[4],'|',board[5])\n",
    "    print('---------')\n",
    "    print(board[0],'|',board[1],'|',board[2])"
   ]
  },
  {
   "cell_type": "code",
   "execution_count": 3,
   "metadata": {},
   "outputs": [],
   "source": [
    "test_board=[' ',' ',' ',' ',' ',' ',' ',' ',' ']"
   ]
  },
  {
   "cell_type": "markdown",
   "metadata": {},
   "source": [
    "# Player 1 picks their marker, Player 2 is defaulted"
   ]
  },
  {
   "cell_type": "code",
   "execution_count": 42,
   "metadata": {},
   "outputs": [],
   "source": [
    "def user_input():\n",
    "    value = False\n",
    "    while value==False:\n",
    "        marker = input('Player1: Do you want to be X or O? ').upper()\n",
    "        if marker not in ('X','O'):\n",
    "            print('please enter X or O!')\n",
    "        else:\n",
    "            if marker=='O':\n",
    "                return ('O','X')\n",
    "            else:\n",
    "                return('X','O')\n"
   ]
  },
  {
   "cell_type": "markdown",
   "metadata": {},
   "source": [
    "# Check if space hasnt already been filled"
   ]
  },
  {
   "cell_type": "code",
   "execution_count": null,
   "metadata": {},
   "outputs": [],
   "source": [
    "def space_check(board,position):\n",
    "    if board[position] == ' ':\n",
    "        return True\n",
    "    else:\n",
    "        return False"
   ]
  },
  {
   "cell_type": "markdown",
   "metadata": {},
   "source": [
    "# First Player chooses position for marker"
   ]
  },
  {
   "cell_type": "code",
   "execution_count": null,
   "metadata": {},
   "outputs": [],
   "source": [
    "def player_choice(board):\n",
    "    value = False\n",
    "    while value == False:\n",
    "        position=input('Please enter your next position between 1 and 9: ')\n",
    "        if position.isdigit() == False:\n",
    "            print('Whoops, please enter a digit!')\n",
    "        elif int(position)<1 or int(position)>9:\n",
    "            print('Pick a number between 1 and 9!')\n",
    "        else:\n",
    "            if space_check(board,int(position)-1) == True:\n",
    "                return int(position)-1\n",
    "                value=True\n",
    "            elif space_check(board,int(position)-1) == False:\n",
    "                print('This position is already taken')      "
   ]
  },
  {
   "cell_type": "markdown",
   "metadata": {},
   "source": [
    "# Place marker in position inputted by user"
   ]
  },
  {
   "cell_type": "code",
   "execution_count": 5,
   "metadata": {},
   "outputs": [],
   "source": [
    "def place_marker(board,marker,position):\n",
    "    board[position]=marker   "
   ]
  },
  {
   "cell_type": "markdown",
   "metadata": {},
   "source": [
    "# Check if either marker has won game"
   ]
  },
  {
   "cell_type": "code",
   "execution_count": 37,
   "metadata": {},
   "outputs": [],
   "source": [
    "def win_check(board,marker):\n",
    "#check horizontals\n",
    "    if list(set(board[0:3])) == [marker]:\n",
    "        print('Congratulations, {} Wins!!'.format(marker))\n",
    "        return True\n",
    "    elif list(set(board[3:6])) == [marker]:\n",
    "        print('Congratulations, {} Wins!!'.format(marker))\n",
    "        return True\n",
    "    elif list(set(board[6:9]))==[marker]:\n",
    "        print('Congratulations, {} Wins!!'.format(marker))\n",
    "        return True\n",
    "#check diagonals\n",
    "    elif board[0]==board[4]==board[8]==marker:\n",
    "        print('Congratulations, {} Wins!!'.format(marker))\n",
    "        return True\n",
    "    elif board[2]==board[4]==board[6]==marker:\n",
    "        print('Congratulations, {} Wins!!'.format(marker))\n",
    "        return True\n",
    "#check verticals\n",
    "    elif board[0]==board[3]==board[6]==marker:\n",
    "        print('Congratulations, {} Wins!!'.format(marker))\n",
    "        return True\n",
    "    elif board[1]==board[4]==board[7]==marker:\n",
    "        print('Congratulations, {} Wins!!'.format(marker))  \n",
    "        return True\n",
    "    elif board[2]==board[5]==board[8]==marker:\n",
    "        print('Congratulations, {} Wins!!'.format(marker))\n",
    "        return True"
   ]
  },
  {
   "cell_type": "markdown",
   "metadata": {},
   "source": [
    "# Randomise which player makes first move"
   ]
  },
  {
   "cell_type": "code",
   "execution_count": 7,
   "metadata": {},
   "outputs": [],
   "source": [
    "import random\n",
    "def choose_first():\n",
    "    PlayerList=['Player1','Player2']\n",
    "    firstPlayer= PlayerList[random.randint(0,1)]\n",
    "    return firstPlayer\n",
    "    "
   ]
  },
  {
   "cell_type": "markdown",
   "metadata": {},
   "source": [
    "# Check if board is full (i.e draw game)"
   ]
  },
  {
   "cell_type": "code",
   "execution_count": 9,
   "metadata": {},
   "outputs": [],
   "source": [
    "def full_board_check(board):\n",
    "    if ' ' not in board:\n",
    "        return True\n",
    "    else:\n",
    "        return False"
   ]
  },
  {
   "cell_type": "markdown",
   "metadata": {},
   "source": [
    "# Ask user if they want to play again"
   ]
  },
  {
   "cell_type": "code",
   "execution_count": 11,
   "metadata": {},
   "outputs": [],
   "source": [
    "def replay():   \n",
    "    init_replay=False\n",
    "    while init_replay==False:  \n",
    "        replay = input('Do you want to play again? (Y/N):') \n",
    "        if replay not in ['Y','N']:\n",
    "            print('please enter either Y or N!')\n",
    "        else:\n",
    "            if replay=='Y':\n",
    "                return True  \n",
    "            else:\n",
    "                return False\n"
   ]
  },
  {
   "cell_type": "markdown",
   "metadata": {},
   "source": [
    "# The Game :)"
   ]
  },
  {
   "cell_type": "code",
   "execution_count": 56,
   "metadata": {},
   "outputs": [
    {
     "name": "stdout",
     "output_type": "stream",
     "text": [
      "O | X | O\n",
      "---------\n",
      "  | X |  \n",
      "---------\n",
      "O | X |  \n",
      " \n",
      "X has won the game!!\n",
      "Do you want to play again? (Y/N):N\n"
     ]
    }
   ],
   "source": [
    "import time\n",
    "print('Welcome to Tic Tac Toe!')\n",
    "time.sleep(1)\n",
    "\n",
    "while True:\n",
    "    board =[' ']*9\n",
    "    #determining marker for each player\n",
    "    Player1,Player2= user_input()\n",
    "\n",
    "    #randomly allocating first player\n",
    "    firstPlayer=choose_first()\n",
    "    print('{} will go first'.format(firstPlayer))\n",
    "    \n",
    "    #determining marker for game    \n",
    "    if firstPlayer =='Player1':\n",
    "        marker1 = Player1\n",
    "        marker2 = Player2\n",
    "    elif firstPlayer == 'Player2':\n",
    "        marker1 = Player2\n",
    "        marker2 = Player1\n",
    "            \n",
    "    \n",
    "    game_on=input('Are you ready to play (YES/NO): ')\n",
    "    \n",
    "    if game_on.lower()=='yes':\n",
    "        game_on=True\n",
    "    else:\n",
    "        break\n",
    "        \n",
    "    game_on=True\n",
    "    \n",
    "    while game_on==True:\n",
    "\n",
    "#Player1s go\n",
    "        display_board(board)\n",
    "        position = player_choice(board)\n",
    "        \n",
    "        #Place marker on board\n",
    "        place_marker(board,marker1,position)\n",
    " \n",
    "        #Check if winner\n",
    "        if win_check(board,marker1)==True:\n",
    "            display_board(board)\n",
    "            print(' ')\n",
    "            print('{} has won the game!!'.format(marker1))\n",
    "            break\n",
    "\n",
    "       #check if board is not full\n",
    "        if full_board_check(board)==True:\n",
    "            print('The game is a draw!!')\n",
    "            break\n",
    "        \n",
    "    \n",
    "        \n",
    "#Player2s go\n",
    "        display_board(board)\n",
    "        position = player_choice(board)\n",
    "        #Place marker on board\n",
    "        place_marker(board,marker2,position)\n",
    "        \n",
    "        #Check if winner\n",
    "        if win_check(board,marker2)==True:\n",
    "            display_board(board)\n",
    "            print(' ')\n",
    "            print('{} has won the game!!'.format(marker2))\n",
    "            break\n",
    "            \n",
    "        #check if board is not full\n",
    "        if full_board_check(board)==True:\n",
    "            print(' ')\n",
    "            print('The Game is a draw!!')\n",
    "            break       \n",
    "        \n",
    "    if replay()==False:\n",
    "        break\n",
    "    else:\n",
    "        clear_output()\n"
   ]
  },
  {
   "cell_type": "code",
   "execution_count": null,
   "metadata": {},
   "outputs": [],
   "source": []
  }
 ],
 "metadata": {
  "kernelspec": {
   "display_name": "Python 3",
   "language": "python",
   "name": "python3"
  },
  "language_info": {
   "codemirror_mode": {
    "name": "ipython",
    "version": 3
   },
   "file_extension": ".py",
   "mimetype": "text/x-python",
   "name": "python",
   "nbconvert_exporter": "python",
   "pygments_lexer": "ipython3",
   "version": "3.8.5"
  }
 },
 "nbformat": 4,
 "nbformat_minor": 4
}
